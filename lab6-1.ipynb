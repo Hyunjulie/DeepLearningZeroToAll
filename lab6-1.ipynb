{
  "nbformat": 4,
  "nbformat_minor": 0,
  "metadata": {
    "colab": {
      "name": "Untitled1.ipynb",
      "version": "0.3.2",
      "provenance": [],
      "include_colab_link": true
    },
    "kernelspec": {
      "name": "python3",
      "display_name": "Python 3"
    }
  },
  "cells": [
    {
      "cell_type": "markdown",
      "metadata": {
        "id": "view-in-github",
        "colab_type": "text"
      },
      "source": [
        "[View in Colaboratory](https://colab.research.google.com/github/Hyunjulie/DeepLearningZeroToAll/blob/master/lab6-1.ipynb)"
      ]
    },
    {
      "metadata": {
        "id": "m_C-8srBl67i",
        "colab_type": "code",
        "colab": {}
      },
      "cell_type": "code",
      "source": [
        "import tensorflow as tf\n",
        "tf.set_random_seed(800)\n",
        "\n",
        "x_data = [[1, 2, 1, 1],\n",
        "          [2, 1, 3, 2],\n",
        "          [3, 1, 3, 4],\n",
        "          [4, 1, 5, 5],\n",
        "          [1, 7, 5, 5],\n",
        "          [1, 2, 5, 6],\n",
        "          [1, 6, 6, 6],\n",
        "          [1, 7, 7, 7]]\n",
        "y_data = [[0, 0, 1],\n",
        "          [0, 0, 1],\n",
        "          [0, 0, 1],\n",
        "          [0, 1, 0],\n",
        "          [0, 1, 0],\n",
        "          [0, 1, 0],\n",
        "          [1, 0, 0],\n",
        "          [1, 0, 0]]\n"
      ],
      "execution_count": 0,
      "outputs": []
    },
    {
      "metadata": {
        "id": "q5k8Gv4uARQY",
        "colab_type": "code",
        "colab": {}
      },
      "cell_type": "code",
      "source": [
        "X = tf.placeholder(\"float\", [None, 4])\n",
        "Y = tf.placeholder(\"float\", [None, 3])\n",
        "nb_classes = 3\n",
        "\n",
        "W = tf.Variable(tf.random_normal([4, nb_classes]), name='weight')\n",
        "b = tf.Variable(tf.random_normal([nb_classes]), name='bias')\n",
        "\n",
        "hypothesis = tf.nn.softmax(tf.matmul(X,W) + b)\n",
        "\n",
        "cost = tf.reduce_mean(-tf.reduce_sum(Y * tf.log(hypothesis), axis=1))\n",
        "\n",
        "optimizer = tf.train.GradientDescentOptimizer(learning_rate=0.1).minimize(cost)\n",
        "\n"
      ],
      "execution_count": 0,
      "outputs": []
    },
    {
      "metadata": {
        "id": "Korvh1xUBKgR",
        "colab_type": "code",
        "colab": {
          "base_uri": "https://localhost:8080/",
          "height": 374
        },
        "outputId": "17d4bc85-a443-40a5-adac-c4cc2c1fed78"
      },
      "cell_type": "code",
      "source": [
        "#Launch Session \n",
        "with tf.Session() as sess:\n",
        "  sess.run(tf.global_variables_initializer())\n",
        "  \n",
        "  for step in range(2001):\n",
        "    sess.run(optimizer, feed_dict={X: x_data, Y: y_data})\n",
        "    if step % 200 == 0: \n",
        "      print(step, sess.run(cost, feed_dict={X: x_data, Y: y_data}))\n",
        "  \n",
        "  print(\"--------------------\")\n",
        "  \n",
        "  a = sess.run(hypothesis, feed_dict={X: [[1, 11, 7, 9]]})\n",
        "  print(a, sess.run(tf.argmax(a,1)))\n",
        "  \n",
        "  print(\"--------------------\")\n",
        "  \n",
        "  b = sess.run(hypothesis, feed_dict={X: [[1, 3, 4, 3]]})\n",
        "  print(b, sess.run(tf.argmax(b,1)))\n",
        "  \n",
        "  print(\"--------------------\")\n",
        "  \n",
        "  c = sess.run(hypothesis, feed_dict={X: [[1, 1, 0, 1]]})\n",
        "  print(c, sess.run(tf.argmax(c,1)))\n",
        "  \n",
        "  print(\"--------------------\")\n",
        "  \n",
        "  all = sess.run(hypothesis, feed_dict={X: [[1, 11, 7, 9], [1, 3, 4, 3], [1, 1, 0, 1]]})\n",
        "  print(all, sess.run(tf.argmax(all,1)))"
      ],
      "execution_count": 6,
      "outputs": [
        {
          "output_type": "stream",
          "text": [
            "0 7.4833994\n",
            "200 0.5682226\n",
            "400 0.47262305\n",
            "600 0.39840204\n",
            "800 0.3296994\n",
            "1000 0.25906333\n",
            "1200 0.22154981\n",
            "1400 0.20195496\n",
            "1600 0.18542674\n",
            "1800 0.17130804\n",
            "2000 0.1591168\n",
            "--------------------\n",
            "[[1.3993281e-02 9.8599499e-01 1.1789086e-05]] [1]\n",
            "--------------------\n",
            "[[0.76292825 0.19966902 0.03740274]] [0]\n",
            "--------------------\n",
            "[[1.7130944e-08 3.7369854e-04 9.9962628e-01]] [2]\n",
            "--------------------\n",
            "[[1.3993281e-02 9.8599499e-01 1.1789087e-05]\n",
            " [7.6292825e-01 1.9966902e-01 3.7402745e-02]\n",
            " [1.7130946e-08 3.7369854e-04 9.9962628e-01]] [1 0 2]\n"
          ],
          "name": "stdout"
        }
      ]
    },
    {
      "metadata": {
        "id": "Iq6dtJCIBwEA",
        "colab_type": "code",
        "colab": {}
      },
      "cell_type": "code",
      "source": [
        ""
      ],
      "execution_count": 0,
      "outputs": []
    }
  ]
}